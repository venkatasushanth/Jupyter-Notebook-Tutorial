{
 "cells": [
  {
   "cell_type": "markdown",
   "id": "7ca9cf9f-3713-47f8-824d-554890ab1be5",
   "metadata": {},
   "source": [
    "# Data Science Tools and Ecosystem"
   ]
  },
  {
   "cell_type": "markdown",
   "id": "2e8271dd-ae12-4c61-8e1c-78fba7d3d724",
   "metadata": {},
   "source": [
    "In this notebook, Data Science Tools and Ecosystem are summarized."
   ]
  },
  {
   "cell_type": "markdown",
   "id": "cabb2a84-a541-4807-baff-5f3e6352b7ab",
   "metadata": {},
   "source": [
    "***Objectives:***"
   ]
  },
  {
   "cell_type": "markdown",
   "id": "c61ecb1c-4c43-4aaf-87aa-ea068a85ba24",
   "metadata": {},
   "source": [
    "- Python\n",
    "- R\n",
    "- SQL\n",
    "- Scala\n",
    "- Julia\n",
    "- Ruby"
   ]
  },
  {
   "cell_type": "markdown",
   "id": "ccf74bac-9614-4ec1-8e07-073fe835028f",
   "metadata": {
    "jp-MarkdownHeadingCollapsed": true,
    "tags": []
   },
   "source": [
    "Some of the popular languages that Data Scientists use are:"
   ]
  },
  {
   "cell_type": "markdown",
   "id": "618073e1-a225-4c58-8f98-7641aaf7376d",
   "metadata": {},
   "source": [
    "1. Python"
   ]
  },
  {
   "cell_type": "markdown",
   "id": "bd7f9c3a-4da0-48a9-84c2-02aa8458029c",
   "metadata": {
    "tags": []
   },
   "source": [
    "2. SQL"
   ]
  },
  {
   "cell_type": "markdown",
   "id": "f4f4844f-793f-48bc-9525-9dee631d6610",
   "metadata": {},
   "source": [
    "3. Spark"
   ]
  },
  {
   "cell_type": "markdown",
   "id": "48eeedd6-3856-47cb-8756-1d13eb336464",
   "metadata": {},
   "source": [
    "Some of the commonly used libraries used by Data Scientists include:"
   ]
  },
  {
   "cell_type": "markdown",
   "id": "34ee743f-6064-4c62-9040-430c8b1d7fdd",
   "metadata": {},
   "source": [
    "1. Scikit-Learn"
   ]
  },
  {
   "cell_type": "markdown",
   "id": "60c58466-a7ce-45cf-a79b-37421336f34b",
   "metadata": {},
   "source": [
    "2. Pandas"
   ]
  },
  {
   "cell_type": "markdown",
   "id": "61cc6993-daed-43b7-ad01-11063a7f67ed",
   "metadata": {},
   "source": [
    "3. Numpy"
   ]
  },
  {
   "cell_type": "markdown",
   "id": "8a452e9b-21c5-4098-aab1-589e191ee03e",
   "metadata": {},
   "source": [
    "| Data Science Tools |\n",
    "| -------------------|\n",
    "| Jupyter Notebooks |\n",
    "| Pytorch |\n",
    "| Seaborn |\n",
    "| MLflow |"
   ]
  },
  {
   "cell_type": "markdown",
   "id": "2f2cf553-4fda-41bc-a583-e6ccb8572772",
   "metadata": {},
   "source": [
    "### Below are a few examples of evaluating arithmetic expressions in Python"
   ]
  },
  {
   "cell_type": "code",
   "execution_count": 2,
   "id": "5c724ccd-6ddd-4a6a-9a39-ffa64d1e25a3",
   "metadata": {
    "tags": []
   },
   "outputs": [
    {
     "data": {
      "text/plain": [
       "17"
      ]
     },
     "execution_count": 2,
     "metadata": {},
     "output_type": "execute_result"
    }
   ],
   "source": [
    "(3*4)+5"
   ]
  },
  {
   "cell_type": "code",
   "execution_count": null,
   "id": "b5127ddb-645b-46ab-8b3a-af7fef642be6",
   "metadata": {},
   "outputs": [],
   "source": [
    "#This a simple arithmetic expression to mutiply then add integers"
   ]
  },
  {
   "cell_type": "code",
   "execution_count": 8,
   "id": "5db5dde9-2578-4274-a17b-a59e683e169a",
   "metadata": {
    "tags": []
   },
   "outputs": [],
   "source": [
    "#This will convert 200 minutes to hours by diving by 60"
   ]
  },
  {
   "cell_type": "markdown",
   "id": "60c54f20-a53d-4b5c-8338-ade6df168332",
   "metadata": {},
   "source": [
    "## Author"
   ]
  },
  {
   "cell_type": "markdown",
   "id": "c5afd134-8c29-4ee0-b43b-37ed9b5f5368",
   "metadata": {},
   "source": [
    "Venkata Sai Sushanth Nalam"
   ]
  },
  {
   "cell_type": "code",
   "execution_count": null,
   "id": "94bbfbac-47e7-4874-a22f-65066b453e58",
   "metadata": {},
   "outputs": [],
   "source": []
  }
 ],
 "metadata": {
  "kernelspec": {
   "display_name": "Python",
   "language": "python",
   "name": "conda-env-python-py"
  },
  "language_info": {
   "codemirror_mode": {
    "name": "ipython",
    "version": 3
   },
   "file_extension": ".py",
   "mimetype": "text/x-python",
   "name": "python",
   "nbconvert_exporter": "python",
   "pygments_lexer": "ipython3",
   "version": "3.7.12"
  }
 },
 "nbformat": 4,
 "nbformat_minor": 5
}
